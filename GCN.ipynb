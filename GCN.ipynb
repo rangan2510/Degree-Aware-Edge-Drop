{
 "cells": [
  {
   "cell_type": "code",
   "execution_count": null,
   "source": [
    "graph_bin = \"CoraFull.bin\""
   ],
   "outputs": [],
   "metadata": {
    "_cell_guid": "b1076dfc-b9ad-4769-8c92-a6c4dae69d19",
    "_uuid": "8f2839f25d086af736a60e9eeb907d3b93b6e0e5",
    "execution": {
     "iopub.execute_input": "2021-06-22T14:51:44.262571Z",
     "iopub.status.busy": "2021-06-22T14:51:44.261981Z",
     "iopub.status.idle": "2021-06-22T14:51:44.281902Z",
     "shell.execute_reply": "2021-06-22T14:51:44.281355Z",
     "shell.execute_reply.started": "2021-06-22T05:47:38.212297Z"
    },
    "papermill": {
     "duration": 0.039899,
     "end_time": "2021-06-22T14:51:44.282034",
     "exception": false,
     "start_time": "2021-06-22T14:51:44.242135",
     "status": "completed"
    },
    "tags": []
   }
  },
  {
   "cell_type": "code",
   "execution_count": null,
   "source": [
    "!nvcc --version\r\n",
    "import torch"
   ],
   "outputs": [],
   "metadata": {
    "execution": {
     "iopub.execute_input": "2021-06-22T14:51:44.305401Z",
     "iopub.status.busy": "2021-06-22T14:51:44.304911Z",
     "iopub.status.idle": "2021-06-22T14:51:46.157235Z",
     "shell.execute_reply": "2021-06-22T14:51:46.156778Z",
     "shell.execute_reply.started": "2021-06-22T05:47:38.242268Z"
    },
    "papermill": {
     "duration": 1.865235,
     "end_time": "2021-06-22T14:51:46.157373",
     "exception": false,
     "start_time": "2021-06-22T14:51:44.292138",
     "status": "completed"
    },
    "tags": []
   }
  },
  {
   "cell_type": "code",
   "execution_count": null,
   "source": [
    "!pip install dgl-cu110\r\n",
    "import dgl"
   ],
   "outputs": [],
   "metadata": {
    "_kg_hide-input": false,
    "execution": {
     "iopub.execute_input": "2021-06-22T14:51:46.185344Z",
     "iopub.status.busy": "2021-06-22T14:51:46.180754Z",
     "iopub.status.idle": "2021-06-22T14:51:58.456037Z",
     "shell.execute_reply": "2021-06-22T14:51:58.455165Z",
     "shell.execute_reply.started": "2021-06-22T05:47:40.602401Z"
    },
    "papermill": {
     "duration": 12.288945,
     "end_time": "2021-06-22T14:51:58.456175",
     "exception": false,
     "start_time": "2021-06-22T14:51:46.167230",
     "status": "completed"
    },
    "tags": []
   }
  },
  {
   "cell_type": "code",
   "execution_count": null,
   "source": [
    "#loader\r\n",
    "from dgl import save_graphs, load_graphs\r\n",
    "\r\n",
    "def load_graph(name, split):\r\n",
    "    k_path = r\"/kaggle/input/dgl-inbuilt-graphs/\"\r\n",
    "    graph = load_graphs(k_path + name)[0][0]\r\n",
    "    label = graph.ndata['label']\r\n",
    "    feat = graph.ndata['feat']\r\n",
    "    in_feat = graph.ndata['feat'].shape[1]\r\n",
    "    out_feat = int(max(label)+1)\r\n",
    "    mask = torch.BoolTensor(graph.num_nodes())\r\n",
    "    mask[:] = False\r\n",
    "    split_idx = int((graph.num_nodes()*split))\r\n",
    "    mask[:split_idx] = True\r\n",
    "    train_mask = mask\r\n",
    "    test_mask = torch.logical_not(train_mask)\r\n",
    "    return graph, feat, label, train_mask, test_mask, in_feat, out_feat"
   ],
   "outputs": [],
   "metadata": {
    "execution": {
     "iopub.execute_input": "2021-06-22T14:51:58.515042Z",
     "iopub.status.busy": "2021-06-22T14:51:58.513432Z",
     "iopub.status.idle": "2021-06-22T14:51:58.515708Z",
     "shell.execute_reply": "2021-06-22T14:51:58.516111Z",
     "shell.execute_reply.started": "2021-06-22T05:47:58.364867Z"
    },
    "papermill": {
     "duration": 0.034279,
     "end_time": "2021-06-22T14:51:58.516240",
     "exception": false,
     "start_time": "2021-06-22T14:51:58.481961",
     "status": "completed"
    },
    "tags": []
   }
  },
  {
   "cell_type": "code",
   "execution_count": null,
   "source": [
    "g, features, labels, train_mask, test_mask, in_feat, out_feat = load_graph(graph_bin,0.8)"
   ],
   "outputs": [],
   "metadata": {
    "execution": {
     "iopub.execute_input": "2021-06-22T14:51:58.569027Z",
     "iopub.status.busy": "2021-06-22T14:51:58.568528Z",
     "iopub.status.idle": "2021-06-22T14:52:06.117790Z",
     "shell.execute_reply": "2021-06-22T14:52:06.116917Z",
     "shell.execute_reply.started": "2021-06-22T05:47:58.378542Z"
    },
    "papermill": {
     "duration": 7.577369,
     "end_time": "2021-06-22T14:52:06.117934",
     "exception": false,
     "start_time": "2021-06-22T14:51:58.540565",
     "status": "completed"
    },
    "tags": []
   }
  },
  {
   "cell_type": "code",
   "execution_count": null,
   "source": [
    "import dgl\r\n",
    "import torch\r\n",
    "import torch.nn.functional as F\r\n",
    "import time\r\n",
    "import numpy as np\r\n",
    "import psutil\r\n",
    "dgl.seed(0)\r\n",
    "torch.manual_seed(0)\r\n",
    "dgl.random.seed(0)\r\n",
    "device = torch.device('cuda:0' if torch.cuda.is_available() else 'cpu')\r\n",
    "\r\n",
    "IN_FEAT = in_feat\r\n",
    "H_FEAT = 128\r\n",
    "OUT_FEAT = out_feat\r\n",
    "\r\n",
    "BACKBONE = 'gcn' #for logging only"
   ],
   "outputs": [],
   "metadata": {
    "execution": {
     "iopub.execute_input": "2021-06-22T14:52:06.404407Z",
     "iopub.status.busy": "2021-06-22T14:52:06.403245Z",
     "iopub.status.idle": "2021-06-22T14:52:06.410949Z",
     "shell.execute_reply": "2021-06-22T14:52:06.410469Z",
     "shell.execute_reply.started": "2021-06-22T05:48:03.173694Z"
    },
    "papermill": {
     "duration": 0.26834,
     "end_time": "2021-06-22T14:52:06.411071",
     "exception": false,
     "start_time": "2021-06-22T14:52:06.142731",
     "status": "completed"
    },
    "tags": []
   }
  },
  {
   "cell_type": "code",
   "execution_count": null,
   "source": [
    "# set config\r\n",
    "\r\n",
    "CONFIG = 0\r\n",
    "\r\n",
    "if CONFIG == 0: #no ed\r\n",
    "    EDROP_DA = False #dont care\r\n",
    "    EDROPOUT = 0\r\n",
    "elif CONFIG == 1: #random ed\r\n",
    "    EDROP_DA = False\r\n",
    "    EDROPOUT = 0.2\r\n",
    "elif CONFIG == 2: #DAw ed\r\n",
    "    EDROP_DA = True\r\n",
    "    EDROPOUT = 0.2\r\n",
    "else: #default config\r\n",
    "    EDROP_DA = True\r\n",
    "    EDROPOUT = 0.2\r\n",
    "    \r\n",
    "RUNS = 10\r\n",
    "NDROPOUT = None\r\n",
    "EPOCHS = 200\r\n",
    "NORM = False\r\n",
    "N_BLOCKS = [2,4,6,8]\r\n",
    "ROTATE_BY = 50\r\n",
    "PRINT_EVERY = 10"
   ],
   "outputs": [],
   "metadata": {
    "execution": {
     "iopub.execute_input": "2021-06-22T14:52:06.465609Z",
     "iopub.status.busy": "2021-06-22T14:52:06.464411Z",
     "iopub.status.idle": "2021-06-22T14:52:06.467338Z",
     "shell.execute_reply": "2021-06-22T14:52:06.466788Z",
     "shell.execute_reply.started": "2021-06-22T05:48:03.567625Z"
    },
    "papermill": {
     "duration": 0.032023,
     "end_time": "2021-06-22T14:52:06.467455",
     "exception": false,
     "start_time": "2021-06-22T14:52:06.435432",
     "status": "completed"
    },
    "tags": []
   }
  },
  {
   "cell_type": "code",
   "execution_count": null,
   "source": [
    "import torch.nn as nn\r\n",
    "import random\r\n",
    "from random import randrange\r\n",
    "\r\n",
    "class RandomEdgeDropout(nn.Module):\r\n",
    "    def __init__(self, da=False, dropout = 0.2, device='cuda:0'):\r\n",
    "        super(RandomEdgeDropout, self).__init__()\r\n",
    "        self.dropout = dropout\r\n",
    "        self.da = da\r\n",
    "\r\n",
    "    def forward(self, g):\r\n",
    "        g = g.local_var()\r\n",
    "        g = g.remove_self_loop()\r\n",
    "        \r\n",
    "        if not self.da:\r\n",
    "            num_edges2drop = int(g.num_edges()*self.dropout)\r\n",
    "            edges2drop = [randrange(g.num_edges()) for _ in range(num_edges2drop)]\r\n",
    "        else:\r\n",
    "            droppable = [idx for idx,i in enumerate(g.edata['droppable'].tolist()) if i==1]\r\n",
    "            num_edges2drop = int(len(droppable)*self.dropout)\r\n",
    "            edges2drop = random.sample(droppable, num_edges2drop)\r\n",
    "        \r\n",
    "        g.remove_edges(torch.tensor(edges2drop).to(device))\r\n",
    "        g = dgl.add_self_loop(g)\r\n",
    "        return g"
   ],
   "outputs": [],
   "metadata": {
    "execution": {
     "iopub.execute_input": "2021-06-22T14:52:06.523402Z",
     "iopub.status.busy": "2021-06-22T14:52:06.522202Z",
     "iopub.status.idle": "2021-06-22T14:52:06.525165Z",
     "shell.execute_reply": "2021-06-22T14:52:06.524734Z",
     "shell.execute_reply.started": "2021-06-22T05:48:03.58185Z"
    },
    "papermill": {
     "duration": 0.034119,
     "end_time": "2021-06-22T14:52:06.525269",
     "exception": false,
     "start_time": "2021-06-22T14:52:06.491150",
     "status": "completed"
    },
    "tags": []
   }
  },
  {
   "cell_type": "code",
   "execution_count": null,
   "source": [
    "import torch\r\n",
    "import torch.nn as nn\r\n",
    "import torch.nn.functional as F\r\n",
    "from dgl.nn import GraphConv\r\n",
    "\r\n",
    "class Net(nn.Module):\r\n",
    "    def __init__(\r\n",
    "        self, \r\n",
    "        graph, \r\n",
    "        in_feat, \r\n",
    "        h_feat, \r\n",
    "        out_feat, \r\n",
    "        n_blocks,\r\n",
    "        edropout = 0.2,\r\n",
    "        edropout_degAw = True, \r\n",
    "        ndropout = 0.2,\r\n",
    "        norm = True, \r\n",
    "        device = 'cuda:0'\r\n",
    "        ):\r\n",
    "        super(Net, self).__init__()\r\n",
    "        self.in_feat = in_feat\r\n",
    "        self.h_feat = h_feat\r\n",
    "        self.out_feat = out_feat\r\n",
    "        \r\n",
    "        self.edropout = edropout\r\n",
    "        self.edropout_degAw = edropout_degAw\r\n",
    "        self.ndropout = ndropout\r\n",
    "        \r\n",
    "        self.norm = norm\r\n",
    "        self.n_blocks = n_blocks\r\n",
    "        self.g = graph\r\n",
    "        \r\n",
    "        self.device = device\r\n",
    "        self.layers = nn.ModuleList()\r\n",
    "        \r\n",
    "        self.ed = RandomEdgeDropout(da=True, dropout = self.edropout, device=self.device)\r\n",
    "        self.lrelu = nn.LeakyReLU(negative_slope=0.1, inplace=False)\r\n",
    "\r\n",
    "        for idx in range(self.n_blocks-1):\r\n",
    "            if (idx==0):\r\n",
    "                self.layers.append(GraphConv(self.in_feat, self.h_feat, norm='both', weight=True, bias=True))\r\n",
    "            else:\r\n",
    "                self.layers.append(GraphConv(self.h_feat, self.h_feat, norm='both', weight=True, bias=True))\r\n",
    "        self.layers.append(GraphConv(self.h_feat, self.out_feat, norm='both', weight=True, bias=True))\r\n",
    "        self.fc = nn.Linear(self.out_feat, self.out_feat)\r\n",
    "        self.bn = torch.nn.BatchNorm1d(self.out_feat)\r\n",
    "    \r\n",
    "    def forward(self, g, features):\r\n",
    "        x = features\r\n",
    "        for lyr in self.layers:\r\n",
    "            with g.local_scope():\r\n",
    "                if self.edropout != 0:\r\n",
    "                    g = self.ed(g)\r\n",
    "                x = self.lrelu(lyr(g, x))\r\n",
    "                if self.ndropout != None:\r\n",
    "                    x = F.dropout(x, self.ndropout, training=self.training)\r\n",
    "        x = self.fc(x)\r\n",
    "        if self.norm:\r\n",
    "            x = self.bn(x)\r\n",
    "        return x"
   ],
   "outputs": [],
   "metadata": {
    "execution": {
     "iopub.execute_input": "2021-06-22T14:52:06.585232Z",
     "iopub.status.busy": "2021-06-22T14:52:06.584677Z",
     "iopub.status.idle": "2021-06-22T14:52:06.587682Z",
     "shell.execute_reply": "2021-06-22T14:52:06.587266Z",
     "shell.execute_reply.started": "2021-06-22T05:48:03.596914Z"
    },
    "papermill": {
     "duration": 0.038591,
     "end_time": "2021-06-22T14:52:06.587786",
     "exception": false,
     "start_time": "2021-06-22T14:52:06.549195",
     "status": "completed"
    },
    "tags": []
   }
  },
  {
   "cell_type": "code",
   "execution_count": null,
   "source": [
    "def evaluate(model, g, features, labels, mask):\r\n",
    "    model.eval()\r\n",
    "    with torch.no_grad():\r\n",
    "        logits = model(g, features)\r\n",
    "        logits = logits[mask]\r\n",
    "        labels = labels[mask]\r\n",
    "        _, indices = torch.max(logits, dim=1)\r\n",
    "        correct = torch.sum(indices == labels)\r\n",
    "        return correct.item() * 1.0 / len(labels)"
   ],
   "outputs": [],
   "metadata": {
    "execution": {
     "iopub.execute_input": "2021-06-22T14:52:06.640790Z",
     "iopub.status.busy": "2021-06-22T14:52:06.639584Z",
     "iopub.status.idle": "2021-06-22T14:52:06.641908Z",
     "shell.execute_reply": "2021-06-22T14:52:06.642292Z",
     "shell.execute_reply.started": "2021-06-22T05:48:03.617795Z"
    },
    "papermill": {
     "duration": 0.030892,
     "end_time": "2021-06-22T14:52:06.642415",
     "exception": false,
     "start_time": "2021-06-22T14:52:06.611523",
     "status": "completed"
    },
    "tags": []
   }
  },
  {
   "cell_type": "code",
   "execution_count": null,
   "source": [
    "g = dgl.add_self_loop(g)\r\n",
    "g = g.to(device)\r\n",
    "features = features.to(device)\r\n",
    "labels = labels.to(device)\r\n",
    "\r\n",
    "best_scores =[]"
   ],
   "outputs": [],
   "metadata": {
    "execution": {
     "iopub.execute_input": "2021-06-22T14:52:06.694669Z",
     "iopub.status.busy": "2021-06-22T14:52:06.694049Z",
     "iopub.status.idle": "2021-06-22T14:52:11.301005Z",
     "shell.execute_reply": "2021-06-22T14:52:11.301600Z",
     "shell.execute_reply.started": "2021-06-22T05:48:03.633493Z"
    },
    "papermill": {
     "duration": 4.635434,
     "end_time": "2021-06-22T14:52:11.301779",
     "exception": false,
     "start_time": "2021-06-22T14:52:06.666345",
     "status": "completed"
    },
    "tags": []
   }
  },
  {
   "cell_type": "code",
   "execution_count": null,
   "source": [
    "print(BACKBONE)\r\n",
    "for N_BLOCK in N_BLOCKS:\r\n",
    "    print('=' ,N_BLOCK,'layers ','='*42)\r\n",
    "    for run in range(RUNS):\r\n",
    "        RUN_ID = run+1\r\n",
    "        print('-' ,RUN_ID, '-'*50)\r\n",
    "\r\n",
    "        net = Net(g, IN_FEAT, H_FEAT, OUT_FEAT, N_BLOCK, EDROPOUT, EDROP_DA, NDROPOUT, NORM, device).to(device)\r\n",
    "\r\n",
    "        optimizer = torch.optim.Adam(net.parameters(), lr=1e-2)\r\n",
    "        dur = []\r\n",
    "\r\n",
    "        best_score = 0\r\n",
    "        best_epoch = 0\r\n",
    "\r\n",
    "        for epoch in range(EPOCHS):\r\n",
    "            if epoch >=3:\r\n",
    "                t0 = time.time()\r\n",
    "\r\n",
    "            net.train()\r\n",
    "\r\n",
    "            logits = net(g, features)\r\n",
    "\r\n",
    "            logp = F.log_softmax(logits, 1)\r\n",
    "            loss = F.nll_loss(logp[train_mask], labels[train_mask])\r\n",
    "\r\n",
    "            optimizer.zero_grad()\r\n",
    "            loss.backward()\r\n",
    "            optimizer.step()\r\n",
    "\r\n",
    "            if epoch >=3:\r\n",
    "                dur.append(time.time() - t0)\r\n",
    "\r\n",
    "            acc = evaluate(net, g, features, labels, test_mask)\r\n",
    "            if epoch%PRINT_EVERY==0:\r\n",
    "                print(\"Epoch {:05d} | Loss {:.4f} | Test Acc {:.4f} | Time(s) {:.4f}\".format(epoch, loss.item(), acc, np.mean(dur)))\r\n",
    "\r\n",
    "            if best_score < acc:\r\n",
    "                best_score = acc\r\n",
    "                best_epoch = epoch\r\n",
    "\r\n",
    "        print(\"Best Test Acc {:.4f} at Epoch {:05d}\".format(best_score, best_epoch))\r\n",
    "        best_scores.append(best_score)\r\n",
    "\r\n",
    "        del net\r\n",
    "        train_mask = torch.tensor(train_mask.tolist()[ROTATE_BY:] + train_mask.tolist()[:ROTATE_BY]).bool().to(device)\r\n",
    "        test_mask = torch.tensor(test_mask.tolist()[ROTATE_BY:] + test_mask.tolist()[:ROTATE_BY]).bool().to(device)\r\n",
    "        \r\n",
    "    #summarize\r\n",
    "    import statistics as stats\r\n",
    "\r\n",
    "    mean = stats.mean(best_scores)\r\n",
    "    stdev = stats.stdev(best_scores)\r\n",
    "    \r\n",
    "    print(\"Summary:\")\r\n",
    "    print(round(mean,4),\"±\",round(stdev,4))"
   ],
   "outputs": [],
   "metadata": {
    "execution": {
     "iopub.execute_input": "2021-06-22T14:52:11.366450Z",
     "iopub.status.busy": "2021-06-22T14:52:11.365804Z",
     "iopub.status.idle": "2021-06-22T15:05:43.217615Z",
     "shell.execute_reply": "2021-06-22T15:05:43.218597Z",
     "shell.execute_reply.started": "2021-06-22T05:48:08.783401Z"
    },
    "papermill": {
     "duration": 811.89216,
     "end_time": "2021-06-22T15:05:43.218808",
     "exception": false,
     "start_time": "2021-06-22T14:52:11.326648",
     "status": "completed"
    },
    "tags": []
   }
  }
 ],
 "metadata": {
  "kernelspec": {
   "display_name": "Python 3",
   "language": "python",
   "name": "python3"
  },
  "language_info": {
   "codemirror_mode": {
    "name": "ipython",
    "version": 3
   },
   "file_extension": ".py",
   "mimetype": "text/x-python",
   "name": "python",
   "nbconvert_exporter": "python",
   "pygments_lexer": "ipython3",
   "version": "3.7.10"
  },
  "papermill": {
   "default_parameters": {},
   "duration": 848.018651,
   "end_time": "2021-06-22T15:05:45.511275",
   "environment_variables": {},
   "exception": null,
   "input_path": "__notebook__.ipynb",
   "output_path": "__notebook__.ipynb",
   "parameters": {},
   "start_time": "2021-06-22T14:51:37.492624",
   "version": "2.3.3"
  }
 },
 "nbformat": 4,
 "nbformat_minor": 5
}