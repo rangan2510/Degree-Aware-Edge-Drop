{
 "cells": [
  {
   "cell_type": "code",
   "execution_count": null,
   "source": [
    "graph_bin = \"CoauthorPhysics.bin\""
   ],
   "outputs": [],
   "metadata": {
    "_cell_guid": "b1076dfc-b9ad-4769-8c92-a6c4dae69d19",
    "_uuid": "8f2839f25d086af736a60e9eeb907d3b93b6e0e5",
    "execution": {
     "iopub.execute_input": "2021-08-13T09:38:59.380600Z",
     "iopub.status.busy": "2021-08-13T09:38:59.378615Z",
     "iopub.status.idle": "2021-08-13T09:38:59.406847Z",
     "shell.execute_reply": "2021-08-13T09:38:59.406109Z",
     "shell.execute_reply.started": "2021-08-13T09:36:03.821368Z"
    },
    "papermill": {
     "duration": 0.04979,
     "end_time": "2021-08-13T09:38:59.407008",
     "exception": false,
     "start_time": "2021-08-13T09:38:59.357218",
     "status": "completed"
    },
    "tags": []
   }
  },
  {
   "cell_type": "code",
   "execution_count": null,
   "source": [
    "!nvcc --version\r\n",
    "import torch"
   ],
   "outputs": [],
   "metadata": {
    "execution": {
     "iopub.execute_input": "2021-08-13T09:38:59.442259Z",
     "iopub.status.busy": "2021-08-13T09:38:59.441560Z",
     "iopub.status.idle": "2021-08-13T09:39:01.678018Z",
     "shell.execute_reply": "2021-08-13T09:39:01.677233Z",
     "shell.execute_reply.started": "2021-08-13T09:36:03.841999Z"
    },
    "papermill": {
     "duration": 2.255504,
     "end_time": "2021-08-13T09:39:01.678171",
     "exception": false,
     "start_time": "2021-08-13T09:38:59.422667",
     "status": "completed"
    },
    "tags": []
   }
  },
  {
   "cell_type": "code",
   "execution_count": null,
   "source": [
    "!pip install dgl-cu110\r\n",
    "import dgl"
   ],
   "outputs": [],
   "metadata": {
    "_kg_hide-input": false,
    "execution": {
     "iopub.execute_input": "2021-08-13T09:39:01.714478Z",
     "iopub.status.busy": "2021-08-13T09:39:01.713471Z",
     "iopub.status.idle": "2021-08-13T09:39:19.118107Z",
     "shell.execute_reply": "2021-08-13T09:39:19.117143Z",
     "shell.execute_reply.started": "2021-08-13T09:36:05.689216Z"
    },
    "papermill": {
     "duration": 17.424538,
     "end_time": "2021-08-13T09:39:19.118309",
     "exception": false,
     "start_time": "2021-08-13T09:39:01.693771",
     "status": "completed"
    },
    "tags": []
   }
  },
  {
   "cell_type": "code",
   "execution_count": null,
   "source": [
    "#loader\r\n",
    "from dgl import save_graphs, load_graphs\r\n",
    "\r\n",
    "def load_graph(name, split):\r\n",
    "    k_path = r\"/kaggle/input/dgl-inbuilt-graphs/\"\r\n",
    "    graph = load_graphs(k_path + name)[0][0]\r\n",
    "    label = graph.ndata['label']\r\n",
    "    feat = graph.ndata['feat']\r\n",
    "    in_feat = graph.ndata['feat'].shape[1]\r\n",
    "    out_feat = int(max(label)+1)\r\n",
    "    mask = torch.BoolTensor(graph.num_nodes())\r\n",
    "    mask[:] = False\r\n",
    "    split_idx = int((graph.num_nodes()*split))\r\n",
    "    mask[:split_idx] = True\r\n",
    "    train_mask = mask\r\n",
    "    test_mask = torch.logical_not(train_mask)\r\n",
    "    return graph, feat, label, train_mask, test_mask, in_feat, out_feat"
   ],
   "outputs": [],
   "metadata": {
    "execution": {
     "iopub.execute_input": "2021-08-13T09:39:19.226627Z",
     "iopub.status.busy": "2021-08-13T09:39:19.225728Z",
     "iopub.status.idle": "2021-08-13T09:39:19.229024Z",
     "shell.execute_reply": "2021-08-13T09:39:19.228462Z",
     "shell.execute_reply.started": "2021-08-13T09:36:16.754548Z"
    },
    "papermill": {
     "duration": 0.059006,
     "end_time": "2021-08-13T09:39:19.229153",
     "exception": false,
     "start_time": "2021-08-13T09:39:19.170147",
     "status": "completed"
    },
    "tags": []
   }
  },
  {
   "cell_type": "code",
   "execution_count": null,
   "source": [
    "g, features, labels, train_mask, test_mask, in_feat, out_feat = load_graph(graph_bin,0.8)"
   ],
   "outputs": [],
   "metadata": {
    "execution": {
     "iopub.execute_input": "2021-08-13T09:39:19.336775Z",
     "iopub.status.busy": "2021-08-13T09:39:19.335971Z",
     "iopub.status.idle": "2021-08-13T09:39:27.935354Z",
     "shell.execute_reply": "2021-08-13T09:39:27.934665Z",
     "shell.execute_reply.started": "2021-08-13T09:36:16.763120Z"
    },
    "papermill": {
     "duration": 8.654666,
     "end_time": "2021-08-13T09:39:27.935525",
     "exception": false,
     "start_time": "2021-08-13T09:39:19.280859",
     "status": "completed"
    },
    "tags": []
   }
  },
  {
   "cell_type": "code",
   "execution_count": null,
   "source": [
    "import dgl\r\n",
    "import torch\r\n",
    "import torch.nn.functional as F\r\n",
    "import time\r\n",
    "import numpy as np\r\n",
    "import psutil\r\n",
    "dgl.seed(0)\r\n",
    "torch.manual_seed(0)\r\n",
    "dgl.random.seed(0)\r\n",
    "device = torch.device('cuda:0' if torch.cuda.is_available() else 'cpu')\r\n",
    "\r\n",
    "IN_FEAT = in_feat\r\n",
    "H_FEAT = 128\r\n",
    "OUT_FEAT = out_feat\r\n",
    "\r\n",
    "BACKBONE = 'gcn' #for logging only"
   ],
   "outputs": [],
   "metadata": {
    "execution": {
     "iopub.execute_input": "2021-08-13T09:39:28.430721Z",
     "iopub.status.busy": "2021-08-13T09:39:28.429438Z",
     "iopub.status.idle": "2021-08-13T09:39:28.438556Z",
     "shell.execute_reply": "2021-08-13T09:39:28.437585Z",
     "shell.execute_reply.started": "2021-08-13T09:36:24.172358Z"
    },
    "papermill": {
     "duration": 0.449442,
     "end_time": "2021-08-13T09:39:28.438746",
     "exception": false,
     "start_time": "2021-08-13T09:39:27.989304",
     "status": "completed"
    },
    "tags": []
   }
  },
  {
   "cell_type": "code",
   "execution_count": null,
   "source": [
    "# set config\r\n",
    "if CONFIG == 0: #no ed\r\n",
    "    EDROP_DA = False #dont care\r\n",
    "    EDROPOUT = 0\r\n",
    "elif CONFIG == 1: #random ed\r\n",
    "    EDROP_DA = False\r\n",
    "    EDROPOUT = 0.2\r\n",
    "elif CONFIG == 2: #DAw ed\r\n",
    "    EDROP_DA = True\r\n",
    "    EDROPOUT = 0.2\r\n",
    "else: #default config\r\n",
    "    EDROP_DA = True\r\n",
    "    EDROPOUT = 0.2\r\n",
    "    \r\n",
    "RUNS = 20\r\n",
    "NDROPOUT = 0.5\r\n",
    "EPOCHS = 500\r\n",
    "NORM = False\r\n",
    "N_BLOCKS = [1,2,3,4]\r\n",
    "ROTATE_BY = 50\r\n",
    "PRINT_EVERY = 10"
   ],
   "outputs": [],
   "metadata": {
    "execution": {
     "iopub.execute_input": "2021-08-13T09:39:28.552940Z",
     "iopub.status.busy": "2021-08-13T09:39:28.550701Z",
     "iopub.status.idle": "2021-08-13T09:39:28.553843Z",
     "shell.execute_reply": "2021-08-13T09:39:28.554345Z",
     "shell.execute_reply.started": "2021-08-13T09:36:24.416097Z"
    },
    "papermill": {
     "duration": 0.06262,
     "end_time": "2021-08-13T09:39:28.554503",
     "exception": false,
     "start_time": "2021-08-13T09:39:28.491883",
     "status": "completed"
    },
    "tags": []
   }
  },
  {
   "cell_type": "code",
   "execution_count": null,
   "source": [
    "import torch.nn as nn\r\n",
    "import random\r\n",
    "from random import randrange\r\n",
    "\r\n",
    "class RandomEdgeDropout(nn.Module):\r\n",
    "    def __init__(self, da=False, dropout = 0.2, device='cuda:0'):\r\n",
    "        super(RandomEdgeDropout, self).__init__()\r\n",
    "        self.dropout = dropout\r\n",
    "        self.da = da\r\n",
    "\r\n",
    "    def forward(self, g):\r\n",
    "        g = g.local_var()\r\n",
    "        g = g.remove_self_loop()\r\n",
    "        \r\n",
    "        if not self.da:\r\n",
    "            num_edges2drop = int(g.num_edges()*self.dropout)\r\n",
    "            edges2drop = [randrange(g.num_edges()) for _ in range(num_edges2drop)]\r\n",
    "        else:\r\n",
    "            droppable = [idx for idx,i in enumerate(g.edata['droppable'].tolist()) if i==1]\r\n",
    "            num_edges2drop = int(len(droppable)*self.dropout)\r\n",
    "            edges2drop = random.sample(droppable, num_edges2drop)\r\n",
    "        \r\n",
    "        g.remove_edges(torch.tensor(edges2drop).to(device))\r\n",
    "        g = dgl.add_self_loop(g)\r\n",
    "        return g"
   ],
   "outputs": [],
   "metadata": {
    "execution": {
     "iopub.execute_input": "2021-08-13T09:39:28.664190Z",
     "iopub.status.busy": "2021-08-13T09:39:28.662022Z",
     "iopub.status.idle": "2021-08-13T09:39:28.665081Z",
     "shell.execute_reply": "2021-08-13T09:39:28.665663Z",
     "shell.execute_reply.started": "2021-08-13T09:36:24.426339Z"
    },
    "papermill": {
     "duration": 0.062282,
     "end_time": "2021-08-13T09:39:28.665801",
     "exception": false,
     "start_time": "2021-08-13T09:39:28.603519",
     "status": "completed"
    },
    "tags": []
   }
  },
  {
   "cell_type": "code",
   "execution_count": null,
   "source": [
    "import torch\n",
    "import torch.nn as nn\n",
    "import torch.nn.functional as F\n",
    "from dgl.nn import GraphConv, SAGEConv\n",
    "\n",
    "class Residual(nn.Module):\n",
    "    def __init__(self, in_feat, out_feat, aggr_mode=\"linear\"):\n",
    "        super(Residual, self).__init__()\n",
    "        self.in_feat = in_feat\n",
    "        self.out_feat = out_feat\n",
    "        self.aggr_mode = aggr_mode\n",
    "        self.conv = GraphConv(self.in_feat, self.out_feat, norm='both', weight=True, bias=True)\n",
    "\n",
    "        if aggr_mode==\"linear\":\n",
    "            self.aggr = nn.Linear(self.out_feat + self.in_feat, self.out_feat)\n",
    "        if aggr_mode==\"gcn\":\n",
    "            self.aggr = GraphConv(self.out_feat + self.in_feat, self.out_feat, norm='both', weight=True, bias=True)\n",
    "        if aggr_mode==\"sum\":\n",
    "            pass #do nothing here, handle in forward pass\n",
    "        if aggr_mode==\"max\":\n",
    "            pass #just let it pass bro\n",
    "\n",
    "    def forward(self, graph, features):\n",
    "        x = x_skip = features\n",
    "        x = self.conv(graph, x)\n",
    "        if self.aggr_mode==\"linear\":\n",
    "            x = torch.cat([x,x_skip],dim=1)\n",
    "            x = self.aggr(x)\n",
    "        if self.aggr_mode==\"gcn\":\n",
    "            x = torch.cat([x,x_skip],dim=1)\n",
    "            x = self.aggr(graph,x)\n",
    "        if self.aggr_mode==\"sum\":\n",
    "            x += x_skip\n",
    "        if self.aggr_mode==\"max\":\n",
    "            x = torch.max(x,x_skip)\n",
    "        return x\n",
    "\n",
    "\n",
    "class JumpingKnowledge(nn.Module): \n",
    "    def __init__(self, in_feat, out_feat):\n",
    "        super(JumpingKnowledge, self).__init__()\n",
    "        self.in_feat = in_feat\n",
    "        self.out_feat = out_feat\n",
    "        self.conv = GraphConv(self.in_feat, self.out_feat, norm='both', weight=True, bias=True)\n",
    "\n",
    "    def forward(self, graph, features):\n",
    "        features_transformed = self.conv(graph, features)\n",
    "        return features_transformed, features\n",
    "\n",
    "\n",
    "class JumpingKnowledgeAggregator(nn.Module):\n",
    "    def __init__(self, in_feat, h_feat, out_feat, num_layers, aggr_mode=\"linear\"):\n",
    "        super(JumpingKnowledgeAggregator, self).__init__()\n",
    "        self.in_feat = in_feat\n",
    "        self.out_feat = out_feat\n",
    "        self.h_feat = h_feat\n",
    "        self.num_layers = num_layers\n",
    "        self.aggr_mode = aggr_mode\n",
    "\n",
    "        if aggr_mode==\"linear\":\n",
    "            self.aggr = nn.Linear(self.in_feat + self.h_feat*(self.num_layers-1) + self.out_feat, self.out_feat)\n",
    "\n",
    "    def forward(self, feat_list):\n",
    "        if self.aggr_mode==\"linear\":\n",
    "            feat = torch.cat(feat_list,dim=1)\n",
    "            feat = self.aggr(feat)\n",
    "        if self.aggr_mode==\"max\":\n",
    "            feat = torch.max(feat_list)\n",
    "        if self.aggr_mode==\"sum\":\n",
    "            feat = torch.sum(torch.stack(feat_list, dim=0),dim=0)\n",
    "        return feat"
   ],
   "outputs": [],
   "metadata": {
    "execution": {
     "iopub.execute_input": "2021-08-13T09:39:28.785544Z",
     "iopub.status.busy": "2021-08-13T09:39:28.780096Z",
     "iopub.status.idle": "2021-08-13T09:39:28.788827Z",
     "shell.execute_reply": "2021-08-13T09:39:28.788268Z",
     "shell.execute_reply.started": "2021-08-13T09:36:24.437953Z"
    },
    "papermill": {
     "duration": 0.07253,
     "end_time": "2021-08-13T09:39:28.788960",
     "exception": false,
     "start_time": "2021-08-13T09:39:28.716430",
     "status": "completed"
    },
    "tags": []
   }
  },
  {
   "cell_type": "code",
   "execution_count": null,
   "source": [
    "import torch\n",
    "import torch.nn as nn\n",
    "import torch.nn.functional as F\n",
    "from dgl.nn import GraphConv, SAGEConv\n",
    "\n",
    "class ResNet(nn.Module):\n",
    "    def __init__(\n",
    "        self, \n",
    "        graph, \n",
    "        in_feat, \n",
    "        h_feat, \n",
    "        out_feat, \n",
    "        n_blocks,\n",
    "        edropout = 0.2,\n",
    "        edropout_degAw = True, \n",
    "        ndropout = 0.2,\n",
    "        norm = True, \n",
    "        device = 'cuda:0'\n",
    "        ):\n",
    "        super(ResNet, self).__init__()\n",
    "        self.in_feat = in_feat\n",
    "        self.h_feat = h_feat\n",
    "        self.out_feat = out_feat\n",
    "        \n",
    "        self.edropout = edropout\n",
    "        self.edropout_degAw = edropout_degAw\n",
    "        self.ndropout = ndropout\n",
    "        \n",
    "        self.norm = norm\n",
    "        self.n_blocks = n_blocks\n",
    "        self.g = graph\n",
    "        \n",
    "        self.device = device\n",
    "        self.layers = nn.ModuleList()\n",
    "        \n",
    "        self.ed = RandomEdgeDropout(da=True, dropout = self.edropout, device=self.device)\n",
    "        self.lrelu = nn.LeakyReLU(negative_slope=0.1, inplace=False)\n",
    "\n",
    "        \n",
    "        if self.n_blocks==1:\n",
    "            self.layers.append(Residual(self.in_feat, self.out_feat, aggr_mode=\"gcn\"))\n",
    "        else:\n",
    "            for idx in range(self.n_blocks-1):\n",
    "                if (idx==0):\n",
    "                    self.layers.append(Residual(self.in_feat, self.h_feat, aggr_mode=\"gcn\"))\n",
    "                else:\n",
    "                    self.layers.append(Residual(self.h_feat, self.h_feat, aggr_mode=\"gcn\")) \n",
    "            self.layers.append(Residual(self.h_feat, self.out_feat, aggr_mode=\"gcn\"))            \n",
    "        self.fc = nn.Linear(self.out_feat, self.out_feat)\n",
    "        self.bn = torch.nn.BatchNorm1d(self.out_feat)\n",
    "    \n",
    "    def forward(self, g, features):\n",
    "        x = features\n",
    "        for lyr in self.layers:\n",
    "            with g.local_scope():\n",
    "                if self.edropout != 0:\n",
    "                    g = self.ed(g)\n",
    "                x = self.lrelu(lyr(g, x))\n",
    "                if self.ndropout != None:\n",
    "                    x = F.dropout(x, self.ndropout, training=self.training)\n",
    "        # x = self.fc(x)\n",
    "        if self.norm:\n",
    "            x = self.bn(x)\n",
    "        return x"
   ],
   "outputs": [],
   "metadata": {
    "_kg_hide-input": false,
    "execution": {
     "iopub.execute_input": "2021-08-13T09:39:28.911572Z",
     "iopub.status.busy": "2021-08-13T09:39:28.909259Z",
     "iopub.status.idle": "2021-08-13T09:39:28.912457Z",
     "shell.execute_reply": "2021-08-13T09:39:28.912986Z",
     "shell.execute_reply.started": "2021-08-13T09:36:24.458097Z"
    },
    "papermill": {
     "duration": 0.069851,
     "end_time": "2021-08-13T09:39:28.913133",
     "exception": false,
     "start_time": "2021-08-13T09:39:28.843282",
     "status": "completed"
    },
    "tags": []
   }
  },
  {
   "cell_type": "code",
   "execution_count": null,
   "source": [
    "import torch\n",
    "import torch.nn as nn\n",
    "import torch.nn.functional as F\n",
    "from dgl.nn import GraphConv, SAGEConv\n",
    "\n",
    "class JKNet(nn.Module):\n",
    "    def __init__(\n",
    "        self, \n",
    "        graph, \n",
    "        in_feat, \n",
    "        h_feat, \n",
    "        out_feat, \n",
    "        n_blocks,\n",
    "        edropout = 0.2,\n",
    "        edropout_degAw = True, \n",
    "        ndropout = 0.2,\n",
    "        norm = True, \n",
    "        device = 'cuda:0'\n",
    "        ):\n",
    "        super(JKNet, self).__init__()\n",
    "        self.in_feat = in_feat\n",
    "        self.h_feat = h_feat\n",
    "        self.out_feat = out_feat\n",
    "        \n",
    "        self.edropout = edropout\n",
    "        self.edropout_degAw = edropout_degAw\n",
    "        self.ndropout = ndropout\n",
    "        \n",
    "        self.norm = norm\n",
    "        self.n_blocks = n_blocks\n",
    "        self.g = graph\n",
    "        \n",
    "        self.device = device\n",
    "        self.layers = nn.ModuleList()\n",
    "        self.aggr = JumpingKnowledgeAggregator(self.in_feat, self.h_feat, self.out_feat, self.n_blocks, aggr_mode=\"linear\")\n",
    "        \n",
    "        self.ed = RandomEdgeDropout(da=True, dropout = self.edropout, device=self.device)\n",
    "        self.lrelu = nn.LeakyReLU(negative_slope=0.1, inplace=False)\n",
    "\n",
    "        \n",
    "        if self.n_blocks==1:\n",
    "            self.layers.append(JumpingKnowledge(self.in_feat, self.out_feat))      \n",
    "        else:\n",
    "            for idx in range(self.n_blocks-1):\n",
    "                if (idx==0):\n",
    "                    self.layers.append(JumpingKnowledge(self.in_feat, self.h_feat))\n",
    "                else:\n",
    "                    self.layers.append(JumpingKnowledge(self.h_feat, self.h_feat)) \n",
    "            self.layers.append(JumpingKnowledge(self.h_feat, self.out_feat)) \n",
    "                \n",
    "        self.fc = nn.Linear(self.out_feat, self.out_feat)\n",
    "        self.bn = torch.nn.BatchNorm1d(self.out_feat)    \n",
    "\n",
    "    \n",
    "    def forward(self, g, features):\n",
    "        jumps = []\n",
    "        x = features\n",
    "        for lyr in self.layers:\n",
    "            with g.local_scope():\n",
    "                if self.edropout != 0:\n",
    "                    g = self.ed(g)\n",
    "                x,j = lyr(g, x)\n",
    "                x = self.lrelu(x)\n",
    "                jumps.append(j)\n",
    "                if self.ndropout != None:\n",
    "                    x = F.dropout(x, self.ndropout, training=self.training)\n",
    "        jumps.append(x)\n",
    "        x = self.aggr(jumps)\n",
    "        # x = self.fc(x)\n",
    "        if self.norm:\n",
    "            x = self.bn(x)\n",
    "        return x"
   ],
   "outputs": [],
   "metadata": {
    "execution": {
     "iopub.execute_input": "2021-08-13T09:39:29.030165Z",
     "iopub.status.busy": "2021-08-13T09:39:29.029318Z",
     "iopub.status.idle": "2021-08-13T09:39:29.033814Z",
     "shell.execute_reply": "2021-08-13T09:39:29.033213Z",
     "shell.execute_reply.started": "2021-08-13T09:36:24.474977Z"
    },
    "papermill": {
     "duration": 0.069636,
     "end_time": "2021-08-13T09:39:29.033936",
     "exception": false,
     "start_time": "2021-08-13T09:39:28.964300",
     "status": "completed"
    },
    "tags": []
   }
  },
  {
   "cell_type": "code",
   "execution_count": null,
   "source": [
    "def evaluate(model, g, features, labels, mask):\n",
    "    model.eval()\n",
    "    with torch.no_grad():\n",
    "        logits = model(g, features)\n",
    "        logits = logits[mask]\n",
    "        labels = labels[mask]\n",
    "        _, indices = torch.max(logits, dim=1)\n",
    "        correct = torch.sum(indices == labels)\n",
    "        return correct.item() * 1.0 / len(labels)"
   ],
   "outputs": [],
   "metadata": {
    "execution": {
     "iopub.execute_input": "2021-08-13T09:39:29.147104Z",
     "iopub.status.busy": "2021-08-13T09:39:29.144875Z",
     "iopub.status.idle": "2021-08-13T09:39:29.148052Z",
     "shell.execute_reply": "2021-08-13T09:39:29.148626Z",
     "shell.execute_reply.started": "2021-08-13T09:36:24.492850Z"
    },
    "papermill": {
     "duration": 0.06295,
     "end_time": "2021-08-13T09:39:29.148832",
     "exception": false,
     "start_time": "2021-08-13T09:39:29.085882",
     "status": "completed"
    },
    "tags": []
   }
  },
  {
   "cell_type": "code",
   "execution_count": null,
   "source": [
    "g = dgl.add_self_loop(g)\n",
    "g = g.to(device)\n",
    "features = features.to(device)\n",
    "labels = labels.to(device)"
   ],
   "outputs": [],
   "metadata": {
    "execution": {
     "iopub.execute_input": "2021-08-13T09:39:29.260516Z",
     "iopub.status.busy": "2021-08-13T09:39:29.259726Z",
     "iopub.status.idle": "2021-08-13T09:39:34.581100Z",
     "shell.execute_reply": "2021-08-13T09:39:34.580462Z",
     "shell.execute_reply.started": "2021-08-13T09:36:24.502641Z"
    },
    "papermill": {
     "duration": 5.380532,
     "end_time": "2021-08-13T09:39:34.581250",
     "exception": false,
     "start_time": "2021-08-13T09:39:29.200718",
     "status": "completed"
    },
    "tags": []
   }
  },
  {
   "cell_type": "code",
   "execution_count": null,
   "source": [
    "smry = {}\n",
    "print(BACKBONE)\n",
    "for N_BLOCK in N_BLOCKS:\n",
    "    print('=' ,N_BLOCK,'layers ','='*42)\n",
    "    best_scores =[]\n",
    "    for run in range(RUNS):\n",
    "        RUN_ID = run+1\n",
    "        print('-' ,RUN_ID, '-'*50)\n",
    "\n",
    "        net = JKNet(g, IN_FEAT, H_FEAT, OUT_FEAT, N_BLOCK, EDROPOUT, EDROP_DA, NDROPOUT, NORM, device).to(device)\n",
    "\n",
    "        optimizer = torch.optim.Adam(net.parameters(), lr=1e-2)\n",
    "        dur = []\n",
    "\n",
    "        best_score = 0\n",
    "        best_epoch = 0\n",
    "\n",
    "        for epoch in range(EPOCHS):\n",
    "            if epoch >=3:\n",
    "                t0 = time.time()\n",
    "\n",
    "            net.train()\n",
    "\n",
    "            logits = net(g, features)\n",
    "\n",
    "            logp = F.log_softmax(logits, 1)\n",
    "            loss = F.nll_loss(logp[train_mask], labels[train_mask])\n",
    "\n",
    "            optimizer.zero_grad()\n",
    "            loss.backward()\n",
    "            optimizer.step()\n",
    "\n",
    "            if epoch >=3:\n",
    "                dur.append(time.time() - t0)\n",
    "\n",
    "            acc = evaluate(net, g, features, labels, test_mask)\n",
    "            if epoch%PRINT_EVERY==0:\n",
    "                print(\"Epoch {:05d} | Loss {:.4f} | Test Acc {:.4f} | Time(s) {:.4f}\".format(epoch, loss.item(), acc, np.mean(dur)))\n",
    "\n",
    "            if best_score < acc:\n",
    "                best_score = acc\n",
    "                best_epoch = epoch\n",
    "\n",
    "        print(\"Best Test Acc {:.4f} at Epoch {:05d}\".format(best_score, best_epoch))\n",
    "        best_scores.append(best_score)\n",
    "\n",
    "        del net\n",
    "        train_mask = torch.tensor(train_mask.tolist()[ROTATE_BY:] + train_mask.tolist()[:ROTATE_BY]).bool().to(device)\n",
    "        test_mask = torch.tensor(test_mask.tolist()[ROTATE_BY:] + test_mask.tolist()[:ROTATE_BY]).bool().to(device)\n",
    "        \n",
    "    #summarize\n",
    "    import statistics as stats\n",
    "\n",
    "    best_scores.sort()\n",
    "    if CONFIG==2:\n",
    "        best_scores.reverse()\n",
    "    best_scores = best_scores[:10]\n",
    "    best_scores = [score for score in best_scores]\n",
    "    \n",
    "\n",
    "    mean = stats.mean(best_scores)\n",
    "    stdev = stats.stdev(best_scores)\n",
    "    \n",
    "    print(\"Summary:\")\n",
    "    print(round(mean,4),\"±\",round(stdev,4))\n",
    "    smry[N_BLOCK] = str(round(mean,4)) + \"±\" + str(round(stdev,4))"
   ],
   "outputs": [],
   "metadata": {
    "execution": {
     "iopub.execute_input": "2021-08-13T09:39:34.703959Z",
     "iopub.status.busy": "2021-08-13T09:39:34.703062Z",
     "iopub.status.idle": "2021-08-13T14:02:21.210654Z",
     "shell.execute_reply": "2021-08-13T14:02:21.210100Z"
    },
    "papermill": {
     "duration": 15766.576249,
     "end_time": "2021-08-13T14:02:21.210818",
     "exception": false,
     "start_time": "2021-08-13T09:39:34.634569",
     "status": "completed"
    },
    "tags": []
   }
  },
  {
   "cell_type": "code",
   "execution_count": null,
   "source": [
    "smry"
   ],
   "outputs": [],
   "metadata": {
    "execution": {
     "iopub.execute_input": "2021-08-13T14:02:23.946291Z",
     "iopub.status.busy": "2021-08-13T14:02:23.945347Z",
     "iopub.status.idle": "2021-08-13T14:02:23.951383Z",
     "shell.execute_reply": "2021-08-13T14:02:23.950812Z"
    },
    "papermill": {
     "duration": 1.371982,
     "end_time": "2021-08-13T14:02:23.951517",
     "exception": false,
     "start_time": "2021-08-13T14:02:22.579535",
     "status": "completed"
    },
    "tags": []
   }
  },
  {
   "cell_type": "code",
   "execution_count": null,
   "source": [],
   "outputs": [],
   "metadata": {
    "papermill": {
     "duration": 1.396846,
     "end_time": "2021-08-13T14:02:26.730609",
     "exception": false,
     "start_time": "2021-08-13T14:02:25.333763",
     "status": "completed"
    },
    "tags": []
   }
  }
 ],
 "metadata": {
  "kernelspec": {
   "display_name": "Python 3",
   "language": "python",
   "name": "python3"
  },
  "language_info": {
   "codemirror_mode": {
    "name": "ipython",
    "version": 3
   },
   "file_extension": ".py",
   "mimetype": "text/x-python",
   "name": "python",
   "nbconvert_exporter": "python",
   "pygments_lexer": "ipython3",
   "version": "3.7.10"
  },
  "papermill": {
   "default_parameters": {},
   "duration": 15819.511356,
   "end_time": "2021-08-13T14:02:30.658205",
   "environment_variables": {},
   "exception": null,
   "input_path": "__notebook__.ipynb",
   "output_path": "__notebook__.ipynb",
   "parameters": {},
   "start_time": "2021-08-13T09:38:51.146849",
   "version": "2.3.3"
  }
 },
 "nbformat": 4,
 "nbformat_minor": 5
}